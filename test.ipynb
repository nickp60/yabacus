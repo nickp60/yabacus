{
 "cells": [
  {
   "cell_type": "code",
   "execution_count": 1,
   "metadata": {},
   "outputs": [
    {
     "name": "stdout",
     "output_type": "stream",
     "text": [
      "(1001260, 12)\n",
      "(1200, 2)\n",
      "(1001260, 12)\n",
      "Depth: 50\n",
      "                      query                   subject   perc  length  qs  ss  \\\n",
      "0  concatenated_genome-9000  concatenated_genome-8862  100.0     100   0   0   \n",
      "1  concatenated_genome-9000  concatenated_genome-9000  100.0     100   0   0   \n",
      "2  concatenated_genome-9000  concatenated_genome-3775  100.0      99   0   0   \n",
      "3  concatenated_genome-9000  concatenated_genome-5445  100.0      98   0   0   \n",
      "4  concatenated_genome-9000  concatenated_genome-6011  100.0      98   0   0   \n",
      "\n",
      "   qe   se    a    b          eval  bitscore  \n",
      "0   1  100    1  100  1.000000e-50     192.0  \n",
      "1   1  100    1  100  1.000000e-50     192.0  \n",
      "2   2  100  100    2  4.000000e-50     191.0  \n",
      "3   1   98   98    1  2.000000e-49     189.0  \n",
      "4   3  100    1   98  2.000000e-49     189.0  \n"
     ]
    }
   ],
   "source": [
    "%matplotlib inline\n",
    "import matplotlib.pyplot as plt\n",
    "import matplotlib\n",
    "import random\n",
    "matplotlib.rcParams['figure.figsize'] = (5,5)\n",
    "import pandas as pd\n",
    "import networkx as nx\n",
    "\n",
    "labels = pd.read_csv(\"/home/nicholas/GitHub/yabacus/seq.tab\", sep=\"\\t\")\n",
    "distances = pd.read_csv(\"/home/nicholas/GitHub/yabacus/simulatedGenomeResults_5/2rDNA/mapped.tab\", sep=\"\\t\", \n",
    "    names=[\"query\", \"subject\", \"perc\", \"length\", \"qs\", \"ss\", \"qe\", \n",
    "            \"se\",\"a\",\"b\", \"eval\", \"bitscore\"])\n",
    "\n",
    "START = False\n",
    "cluster_dict = {}\n",
    "with open(\"/home/nicholas/GitHub/yabacus/out.seq.mci.I14\", \"r\") as inf:\n",
    "    cluster = 0\n",
    "    for idx, line in enumerate(inf):\n",
    "        if idx < 7:\n",
    "            continue\n",
    "        if line.startswith(\")\"):\n",
    "            break\n",
    "        if line.startswith(\" \"):\n",
    "            cluster_dict[cluster].extend([int(x) for x in line.split() if x != \"$\"]) \n",
    "        else:\n",
    "            cluster = int(line.split()[0])\n",
    "            cluster_dict[cluster] = [int(x) for x in line.split()[1:] if x != \"$\"]\n",
    "#print(cluster_dict)\n",
    "\n",
    "\n",
    "def talldf_from_dict(cluster_dict):\n",
    "    \"\"\"retuns a dict\n",
    "    \"\"\"\n",
    "    df = pd.DataFrame.from_dict(cluster_dict, orient=\"index\").head().melt(\n",
    "        var_name='cluster', value_name='id')\n",
    "    return df\n",
    "cluster_df = talldf_from_dict(cluster_dict=cluster_dict)\n",
    "print(distances.shape)\n",
    "print(cluster_df.shape)\n",
    "\n",
    "genome_length = 20000\n",
    "depth = int(len(distances) / genome_length) \n",
    "#distances = distances.iloc[random.sample(list(distances.index), len(distances))]\n",
    "print(distances.shape)\n",
    "print(\"Depth: %d\" %depth)\n",
    "print(distances.head())"
   ]
  },
  {
   "cell_type": "code",
   "execution_count": 2,
   "metadata": {},
   "outputs": [
    {
     "name": "stdout",
     "output_type": "stream",
     "text": [
      "                     seq  rdna_start  rdna_end product  color\n",
      "0  concatenated_genome_0        2001      3538     16S    red\n",
      "1  concatenated_genome_0        3988      6887     23S   blue\n",
      "2  concatenated_genome_0        6985      7095      5S  green\n",
      "3  concatenated_genome_0       11096     12633     16S    red\n",
      "4  concatenated_genome_0       12991     15890     23S   blue\n"
     ]
    }
   ],
   "source": [
    "gff = \"/home/nicholas/GitHub/yabacus/simulatedGenomeResults_5/toyGenome/coli_genome/scan/scannedScaffolds.gff\"\n",
    "gff_lines = [[\"seq\", \"rdna_start\", \"rdna_end\", \"product\", \"color\"]] # [seq, start, product]\n",
    "def choose_color(rRNA):\n",
    "    if \"16\" in rRNA:\n",
    "        return \"red\"\n",
    "    elif \"23\" in rRNA:\n",
    "        return \"blue\"\n",
    "    elif \"5\" in rRNA:\n",
    "        return \"green\"\n",
    "    else:\n",
    "        return \"black\"\n",
    "with open(gff, \"r\") as inf:\n",
    "    for line in inf:\n",
    "        if not line.startswith(\"#\"): \n",
    "            ff = line.split()\n",
    "            product = ff[8].split(\"product=\")[1]\n",
    "            gff_lines.append([ff[0], int(ff[3]), int(ff[4]), product, choose_color(product)])\n",
    "gffdf = pd.DataFrame(gff_lines[1:], columns=gff_lines[0])\n",
    "print(gffdf.head())"
   ]
  },
  {
   "cell_type": "code",
   "execution_count": 3,
   "metadata": {},
   "outputs": [
    {
     "name": "stdout",
     "output_type": "stream",
     "text": [
      "                      query  start\n",
      "0  concatenated_genome-9000   5761\n",
      "1  concatenated_genome-8999   5158\n",
      "2  concatenated_genome-8998   8076\n",
      "3  concatenated_genome-8997    254\n",
      "4  concatenated_genome-8996   8343\n",
      "                      query  start   rdna  color\n",
      "0  concatenated_genome-9000   5761   True   blue\n",
      "1  concatenated_genome-8999   5158   True   blue\n",
      "2  concatenated_genome-8998   8076  False  black\n",
      "3  concatenated_genome-8997    254  False  black\n",
      "4  concatenated_genome-8996   8343  False  black\n"
     ]
    }
   ],
   "source": [
    "sam = \"/home/nicholas/GitHub/yabacus/simulatedGenomeResults_5/2rDNA/mapped_to_short_ref.sam\"\n",
    "sam_lines = [[\"query\", \"start\"]]  # [read_id, start]\n",
    "with open(sam, \"r\") as insam:\n",
    "    for line in insam:\n",
    "        if not line.startswith(\"@\"):\n",
    "#            print(fields)\n",
    "            fields = line.split()\n",
    "            sam_lines.append([fields[0], int(fields[3])])\n",
    "samdf = pd.DataFrame(sam_lines[1:], columns=sam_lines[0])\n",
    "print(samdf.head())\n",
    "\n",
    "rDNA_mask, color_mask = [], []\n",
    "for i, row in samdf.iterrows():\n",
    "    rDNA, this_color = False, \"black\"\n",
    "    for j, grow in gffdf.iterrows():\n",
    "        if grow['rdna_start'] <= row['start'] <= grow['rdna_end']:\n",
    "            rDNA = True\n",
    "            this_color = grow['color']\n",
    "    color_mask.append(this_color)\n",
    "    rDNA_mask.append(rDNA)\n",
    "samdf['rdna'] = rDNA_mask\n",
    "samdf['color'] = color_mask\n",
    "\n",
    "\n",
    "print(samdf.head())"
   ]
  },
  {
   "cell_type": "code",
   "execution_count": 4,
   "metadata": {},
   "outputs": [
    {
     "name": "stdout",
     "output_type": "stream",
     "text": [
      "                    query_x                   subject   perc  length  qs  ss  \\\n",
      "0  concatenated_genome-9000  concatenated_genome-8862  100.0     100   0   0   \n",
      "1  concatenated_genome-9000  concatenated_genome-9000  100.0     100   0   0   \n",
      "2  concatenated_genome-9000  concatenated_genome-3775  100.0      99   0   0   \n",
      "3  concatenated_genome-9000  concatenated_genome-5445  100.0      98   0   0   \n",
      "4  concatenated_genome-9000  concatenated_genome-6011  100.0      98   0   0   \n",
      "\n",
      "   qe   se    a    b          eval  bitscore query_color  \\\n",
      "0   1  100    1  100  1.000000e-50     192.0        blue   \n",
      "1   1  100    1  100  1.000000e-50     192.0        blue   \n",
      "2   2  100  100    2  4.000000e-50     191.0        blue   \n",
      "3   1   98   98    1  2.000000e-49     189.0        blue   \n",
      "4   3  100    1   98  2.000000e-49     189.0        blue   \n",
      "\n",
      "                    query_y  start  rdna color subject_color  \\\n",
      "0  concatenated_genome-8862   5761  True  blue          blue   \n",
      "1  concatenated_genome-9000   5761  True  blue          blue   \n",
      "2  concatenated_genome-3775  14763  True  blue          blue   \n",
      "3  concatenated_genome-5445   5763  True  blue          blue   \n",
      "4  concatenated_genome-6011  14762  True  blue          blue   \n",
      "\n",
      "                      query  \n",
      "0  concatenated_genome-9000  \n",
      "1  concatenated_genome-9000  \n",
      "2  concatenated_genome-9000  \n",
      "3  concatenated_genome-9000  \n",
      "4  concatenated_genome-9000  \n",
      "(1001260, 19)\n"
     ]
    }
   ],
   "source": [
    "df_tmp = pd.merge(distances, samdf, how=\"left\", on=\"query\")\n",
    "df_tmp['query_color'] = df_tmp['color']\n",
    "df = pd.merge(df_tmp[[\"query\", \"subject\", \"perc\", \"length\", \"qs\", \"ss\", \"qe\", \"se\", \"a\", \"b\", \"eval\", \"bitscore\", \"query_color\"]],\n",
    "              samdf, how=\"left\", left_on=\"subject\", right_on=\"query\")\n",
    "df['subject_color'] = df['color']\n",
    "df['query'] = df['query_x']\n",
    "\n",
    "print(df.head())\n",
    "print(df.shape)\n"
   ]
  },
  {
   "cell_type": "code",
   "execution_count": 5,
   "metadata": {},
   "outputs": [],
   "source": [
    "def plot_graph_at_depth(df, depth, x):\n",
    "    color_map = []\n",
    "    print(\"processing %d\" %x)\n",
    "    print(\"realtive amount: %f\" % x * depth)\n",
    "    mask = df.groupby('query').query.transform('count') >  x * depth\n",
    "    this_distances = df[mask]\n",
    "    print(this_distances.shape)\n",
    "    if len(this_distances) > 100000:\n",
    "        indexes = random.sample(list(this_distances.index), 100000)\n",
    "        this_distances = this_distances.loc[indexes]\n",
    "    print(this_distances.shape)\n",
    "    G = nx.Graph()\n",
    "    for idx, row in this_distances.iterrows():\n",
    "        if idx > 4000000:\n",
    "            break\n",
    "        if row[\"query\"] not in G.nodes:\n",
    "            color_map.append(row['query_color'])\n",
    "            G.add_node(row[\"query\"])\n",
    "        if row[\"subject\"] not in G.nodes:\n",
    "            color_map.append(row['subject_color'])\n",
    "            G.add_node(row[\"subject\"])\n",
    "        G.add_edge(row[\"subject\"], row[\"query\"], length=row['bitscore'])\n",
    "    nx.draw(G, font_weight='bold', node_size=1, edge_width=2, edge_color=\"grey\", node_color = color_map, with_labels = False)\n",
    "    plt.savefig(fname=\"network_retained_depth_%.2f_%.2fx.png\" % (depth * x, x),\n",
    "                dpi=200,\n",
    "                orientation='portrait', papertype=None, format=\"png\",\n",
    "                transparent=False, bbox_inches=None, pad_inches=0.1,\n",
    "                frameon=None)\n",
    "    plt.close()\n",
    "#plot_graph_at_depth(df, depth=depth, x=8)"
   ]
  },
  {
   "cell_type": "code",
   "execution_count": null,
   "metadata": {},
   "outputs": [
    {
     "name": "stdout",
     "output_type": "stream",
     "text": [
      "[1.0, 1.25, 1.5, 1.75, 2.0, 2.25, 2.5, 2.75, 3.0, 3.25, 3.5, 3.75, 4.0, 4.25, 4.5, 4.75, 5.0, 5.25, 5.5, 5.75, 6.0, 6.25, 6.5, 6.75, 7.0, 7.25, 7.5, 7.75, 8.0, 8.25, 8.5, 8.75, 9.0, 9.25, 9.5, 9.75, 10.0, 10.25, 10.5, 10.75]\n",
      "processing 1\n",
      "realtive amount: 1.000000realtive amount: 1.000000realtive amount: 1.000000realtive amount: 1.000000realtive amount: 1.000000realtive amount: 1.000000realtive amount: 1.000000realtive amount: 1.000000realtive amount: 1.000000realtive amount: 1.000000realtive amount: 1.000000realtive amount: 1.000000realtive amount: 1.000000realtive amount: 1.000000realtive amount: 1.000000realtive amount: 1.000000realtive amount: 1.000000realtive amount: 1.000000realtive amount: 1.000000realtive amount: 1.000000realtive amount: 1.000000realtive amount: 1.000000realtive amount: 1.000000realtive amount: 1.000000realtive amount: 1.000000realtive amount: 1.000000realtive amount: 1.000000realtive amount: 1.000000realtive amount: 1.000000realtive amount: 1.000000realtive amount: 1.000000realtive amount: 1.000000realtive amount: 1.000000realtive amount: 1.000000realtive amount: 1.000000realtive amount: 1.000000realtive amount: 1.000000realtive amount: 1.000000realtive amount: 1.000000realtive amount: 1.000000realtive amount: 1.000000realtive amount: 1.000000realtive amount: 1.000000realtive amount: 1.000000realtive amount: 1.000000realtive amount: 1.000000realtive amount: 1.000000realtive amount: 1.000000realtive amount: 1.000000realtive amount: 1.000000\n",
      "(997290, 19)\n",
      "realtive amount: 1.250000realtive amount: 1.250000realtive amount: 1.250000realtive amount: 1.250000realtive amount: 1.250000realtive amount: 1.250000realtive amount: 1.250000realtive amount: 1.250000realtive amount: 1.250000realtive amount: 1.250000realtive amount: 1.250000realtive amount: 1.250000realtive amount: 1.250000realtive amount: 1.250000realtive amount: 1.250000realtive amount: 1.250000realtive amount: 1.250000realtive amount: 1.250000realtive amount: 1.250000realtive amount: 1.250000realtive amount: 1.250000realtive amount: 1.250000realtive amount: 1.250000realtive amount: 1.250000realtive amount: 1.250000realtive amount: 1.250000realtive amount: 1.250000realtive amount: 1.250000realtive amount: 1.250000realtive amount: 1.250000realtive amount: 1.250000realtive amount: 1.250000realtive amount: 1.250000realtive amount: 1.250000realtive amount: 1.250000realtive amount: 1.250000realtive amount: 1.250000realtive amount: 1.250000realtive amount: 1.250000realtive amount: 1.250000realtive amount: 1.250000realtive amount: 1.250000realtive amount: 1.250000realtive amount: 1.250000realtive amount: 1.250000realtive amount: 1.250000realtive amount: 1.250000realtive amount: 1.250000realtive amount: 1.250000realtive amount: 1.250000\n",
      "(100000, 19)\n",
      "processing 1\n",
      "(965395, 19)\n",
      "(100000, 19)\n",
      "realtive amount: 1.500000realtive amount: 1.500000realtive amount: 1.500000realtive amount: 1.500000realtive amount: 1.500000realtive amount: 1.500000realtive amount: 1.500000realtive amount: 1.500000realtive amount: 1.500000realtive amount: 1.500000realtive amount: 1.500000realtive amount: 1.500000realtive amount: 1.500000realtive amount: 1.500000realtive amount: 1.500000realtive amount: 1.500000realtive amount: 1.500000realtive amount: 1.500000realtive amount: 1.500000realtive amount: 1.500000realtive amount: 1.500000realtive amount: 1.500000realtive amount: 1.500000realtive amount: 1.500000realtive amount: 1.500000realtive amount: 1.500000realtive amount: 1.500000realtive amount: 1.500000realtive amount: 1.500000realtive amount: 1.500000realtive amount: 1.500000realtive amount: 1.500000realtive amount: 1.500000realtive amount: 1.500000realtive amount: 1.500000realtive amount: 1.500000realtive amount: 1.500000realtive amount: 1.500000realtive amount: 1.500000realtive amount: 1.500000realtive amount: 1.500000realtive amount: 1.500000realtive amount: 1.500000realtive amount: 1.500000realtive amount: 1.500000realtive amount: 1.500000realtive amount: 1.500000realtive amount: 1.500000realtive amount: 1.500000realtive amount: 1.500000\n",
      "processing 1\n",
      "(824911, 19)\n",
      "realtive amount: 1.750000realtive amount: 1.750000realtive amount: 1.750000realtive amount: 1.750000realtive amount: 1.750000realtive amount: 1.750000realtive amount: 1.750000realtive amount: 1.750000realtive amount: 1.750000realtive amount: 1.750000realtive amount: 1.750000realtive amount: 1.750000realtive amount: 1.750000realtive amount: 1.750000realtive amount: 1.750000realtive amount: 1.750000realtive amount: 1.750000realtive amount: 1.750000realtive amount: 1.750000realtive amount: 1.750000realtive amount: 1.750000realtive amount: 1.750000realtive amount: 1.750000realtive amount: 1.750000realtive amount: 1.750000realtive amount: 1.750000realtive amount: 1.750000realtive amount: 1.750000realtive amount: 1.750000realtive amount: 1.750000realtive amount: 1.750000realtive amount: 1.750000realtive amount: 1.750000realtive amount: 1.750000realtive amount: 1.750000realtive amount: 1.750000realtive amount: 1.750000realtive amount: 1.750000realtive amount: 1.750000realtive amount: 1.750000realtive amount: 1.750000realtive amount: 1.750000realtive amount: 1.750000realtive amount: 1.750000realtive amount: 1.750000realtive amount: 1.750000realtive amount: 1.750000realtive amount: 1.750000realtive amount: 1.750000realtive amount: 1.750000\n",
      "processing 1\n",
      "(100000, 19)\n",
      "(735329, 19)\n",
      "(100000, 19)\n",
      "processing 2\n",
      "realtive amount: 2.000000realtive amount: 2.000000realtive amount: 2.000000realtive amount: 2.000000realtive amount: 2.000000realtive amount: 2.000000realtive amount: 2.000000realtive amount: 2.000000realtive amount: 2.000000realtive amount: 2.000000realtive amount: 2.000000realtive amount: 2.000000realtive amount: 2.000000realtive amount: 2.000000realtive amount: 2.000000realtive amount: 2.000000realtive amount: 2.000000realtive amount: 2.000000realtive amount: 2.000000realtive amount: 2.000000realtive amount: 2.000000realtive amount: 2.000000realtive amount: 2.000000realtive amount: 2.000000realtive amount: 2.000000realtive amount: 2.000000realtive amount: 2.000000realtive amount: 2.000000realtive amount: 2.000000realtive amount: 2.000000realtive amount: 2.000000realtive amount: 2.000000realtive amount: 2.000000realtive amount: 2.000000realtive amount: 2.000000realtive amount: 2.000000realtive amount: 2.000000realtive amount: 2.000000realtive amount: 2.000000realtive amount: 2.000000realtive amount: 2.000000realtive amount: 2.000000realtive amount: 2.000000realtive amount: 2.000000realtive amount: 2.000000realtive amount: 2.000000realtive amount: 2.000000realtive amount: 2.000000realtive amount: 2.000000realtive amount: 2.000000\n",
      "(718596, 19)\n",
      "(100000, 19)\n"
     ]
    }
   ],
   "source": [
    "# need to filter hits with less than 10 neighbors\n",
    "rels = [x * .01 for x in range(100, 1100, 25)]\n",
    "print(rels)\n",
    "import multiprocessing\n",
    "pool = multiprocessing.Pool(processes=4)\n",
    "results = [\n",
    "    pool.apply_async(plot_graph_at_depth,\n",
    "                     (df,),\n",
    "                     {#\"df\": distances,\n",
    "                      \"depth\": depth,\n",
    "                      \"x\": this_depth})\n",
    "    for this_depth in rels]\n",
    "pool.close()\n",
    "pool.join()\n",
    "#subassembly_return_sum = sum([r.get() for r in results])\n",
    "\n",
    "\n"
   ]
  },
  {
   "cell_type": "code",
   "execution_count": null,
   "metadata": {},
   "outputs": [],
   "source": [
    "results[0].__dict__\n"
   ]
  }
 ],
 "metadata": {
  "kernelspec": {
   "display_name": "Python 3",
   "language": "python",
   "name": "python3"
  },
  "language_info": {
   "codemirror_mode": {
    "name": "ipython",
    "version": 3
   },
   "file_extension": ".py",
   "mimetype": "text/x-python",
   "name": "python",
   "nbconvert_exporter": "python",
   "pygments_lexer": "ipython3",
   "version": "3.6.2"
  }
 },
 "nbformat": 4,
 "nbformat_minor": 2
}
